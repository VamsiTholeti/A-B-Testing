{
 "cells": [
  {
   "cell_type": "markdown",
   "id": "d4eaed11-d12c-4dd4-abe1-c5ebae52494d",
   "metadata": {},
   "source": [
    "# A/B Testing or Split Testing"
   ]
  },
  {
   "cell_type": "markdown",
   "id": "c3070bec-d20b-4599-8c1c-5db3f9386b04",
   "metadata": {},
   "source": [
    "#### A/B testing (also called split testing) is a randomized experiment where two or more variants (A and B) of a variable are shown to different segments of users at the same time. \n",
    "#### The goal is to determine which version has a more significant impact on a chosen metric (e.g., conversion rate, click-through rate)"
   ]
  },
  {
   "cell_type": "markdown",
   "id": "8dc3ddff-e1bf-485b-90e0-b34e16e445a9",
   "metadata": {},
   "source": [
    "### Objective\n",
    "##### To determine whether exposure to advertisements (ads) leads to a higher product purchase rate \n",
    "##### compared to exposure to a Public Service Announcement (PSA) or no ad at all."
   ]
  },
  {
   "cell_type": "markdown",
   "id": "0c7ceacd-e7b7-4713-967f-6e02c26eace5",
   "metadata": {},
   "source": [
    "### 1. Import Libraries"
   ]
  },
  {
   "cell_type": "code",
   "execution_count": 1,
   "id": "757f36a3-ba82-405e-b7e3-ae068649a910",
   "metadata": {},
   "outputs": [],
   "source": [
    "import pandas as pd\n",
    "import numpy as np\n",
    "import matplotlib.pyplot as plt\n",
    "import seaborn as sns\n",
    "from scipy.stats import chi2_contingency"
   ]
  },
  {
   "cell_type": "markdown",
   "id": "ac7c8541-545e-42da-bc46-4b71245bd1e6",
   "metadata": {},
   "source": [
    "### 2. Load the Dataset"
   ]
  },
  {
   "cell_type": "code",
   "execution_count": 2,
   "id": "3a1e1a83-42b2-4aab-b6a7-6085403f42a3",
   "metadata": {},
   "outputs": [],
   "source": [
    "df=pd.read_csv(r\"marketing_AB.csv\")"
   ]
  },
  {
   "cell_type": "markdown",
   "id": "0be9d355-76fd-423d-ad21-8e9383ac97ff",
   "metadata": {},
   "source": [
    "### 3.Basic EDA(Exploratory Data Analysis)"
   ]
  },
  {
   "cell_type": "code",
   "execution_count": 3,
   "id": "4e80c207-d882-4e5a-b4db-8f274962e2d4",
   "metadata": {},
   "outputs": [
    {
     "data": {
      "text/html": [
       "<div>\n",
       "<style scoped>\n",
       "    .dataframe tbody tr th:only-of-type {\n",
       "        vertical-align: middle;\n",
       "    }\n",
       "\n",
       "    .dataframe tbody tr th {\n",
       "        vertical-align: top;\n",
       "    }\n",
       "\n",
       "    .dataframe thead th {\n",
       "        text-align: right;\n",
       "    }\n",
       "</style>\n",
       "<table border=\"1\" class=\"dataframe\">\n",
       "  <thead>\n",
       "    <tr style=\"text-align: right;\">\n",
       "      <th></th>\n",
       "      <th>Unnamed: 0</th>\n",
       "      <th>user id</th>\n",
       "      <th>test group</th>\n",
       "      <th>converted</th>\n",
       "      <th>total ads</th>\n",
       "      <th>most ads day</th>\n",
       "      <th>most ads hour</th>\n",
       "    </tr>\n",
       "  </thead>\n",
       "  <tbody>\n",
       "    <tr>\n",
       "      <th>0</th>\n",
       "      <td>0</td>\n",
       "      <td>1069124</td>\n",
       "      <td>ad</td>\n",
       "      <td>False</td>\n",
       "      <td>130</td>\n",
       "      <td>Monday</td>\n",
       "      <td>20</td>\n",
       "    </tr>\n",
       "    <tr>\n",
       "      <th>1</th>\n",
       "      <td>1</td>\n",
       "      <td>1119715</td>\n",
       "      <td>ad</td>\n",
       "      <td>False</td>\n",
       "      <td>93</td>\n",
       "      <td>Tuesday</td>\n",
       "      <td>22</td>\n",
       "    </tr>\n",
       "    <tr>\n",
       "      <th>2</th>\n",
       "      <td>2</td>\n",
       "      <td>1144181</td>\n",
       "      <td>ad</td>\n",
       "      <td>False</td>\n",
       "      <td>21</td>\n",
       "      <td>Tuesday</td>\n",
       "      <td>18</td>\n",
       "    </tr>\n",
       "    <tr>\n",
       "      <th>3</th>\n",
       "      <td>3</td>\n",
       "      <td>1435133</td>\n",
       "      <td>ad</td>\n",
       "      <td>False</td>\n",
       "      <td>355</td>\n",
       "      <td>Tuesday</td>\n",
       "      <td>10</td>\n",
       "    </tr>\n",
       "    <tr>\n",
       "      <th>4</th>\n",
       "      <td>4</td>\n",
       "      <td>1015700</td>\n",
       "      <td>ad</td>\n",
       "      <td>False</td>\n",
       "      <td>276</td>\n",
       "      <td>Friday</td>\n",
       "      <td>14</td>\n",
       "    </tr>\n",
       "  </tbody>\n",
       "</table>\n",
       "</div>"
      ],
      "text/plain": [
       "   Unnamed: 0  user id test group  converted  total ads most ads day  \\\n",
       "0           0  1069124         ad      False        130       Monday   \n",
       "1           1  1119715         ad      False         93      Tuesday   \n",
       "2           2  1144181         ad      False         21      Tuesday   \n",
       "3           3  1435133         ad      False        355      Tuesday   \n",
       "4           4  1015700         ad      False        276       Friday   \n",
       "\n",
       "   most ads hour  \n",
       "0             20  \n",
       "1             22  \n",
       "2             18  \n",
       "3             10  \n",
       "4             14  "
      ]
     },
     "execution_count": 3,
     "metadata": {},
     "output_type": "execute_result"
    }
   ],
   "source": [
    "# shows first 5 rows\n",
    "df.head()"
   ]
  },
  {
   "cell_type": "code",
   "execution_count": 4,
   "id": "901dc839-bc45-4def-9324-9b9d4a056994",
   "metadata": {},
   "outputs": [],
   "source": [
    "#user_id-Unique identifier for each participant\n",
    "#group-Indicates whether the user is in the 'ad'-advertisements (experimental) or 'psa'-Public Service Announcement (control) group\n",
    "#purchase-Boolean: True if the user made a purchase, False otherwise\n",
    "#num_ads_seen-Number of ads the user saw\n",
    "#peak_day-The day when the user saw the highest number of ads\n",
    "#peak_hour-The hour of the day when the user saw the highest number of ads"
   ]
  },
  {
   "cell_type": "code",
   "execution_count": 5,
   "id": "81023289-c7d2-487e-a471-764a38cb1740",
   "metadata": {},
   "outputs": [
    {
     "data": {
      "text/plain": [
       "(588101, 7)"
      ]
     },
     "execution_count": 5,
     "metadata": {},
     "output_type": "execute_result"
    }
   ],
   "source": [
    "# Returns (rows,columns)\n",
    "df.shape"
   ]
  },
  {
   "cell_type": "code",
   "execution_count": 6,
   "id": "538bcd2f-c735-4679-9294-84ac50b67b67",
   "metadata": {},
   "outputs": [
    {
     "name": "stdout",
     "output_type": "stream",
     "text": [
      "<class 'pandas.core.frame.DataFrame'>\n",
      "RangeIndex: 588101 entries, 0 to 588100\n",
      "Data columns (total 7 columns):\n",
      " #   Column         Non-Null Count   Dtype \n",
      "---  ------         --------------   ----- \n",
      " 0   Unnamed: 0     588101 non-null  int64 \n",
      " 1   user id        588101 non-null  int64 \n",
      " 2   test group     588101 non-null  object\n",
      " 3   converted      588101 non-null  bool  \n",
      " 4   total ads      588101 non-null  int64 \n",
      " 5   most ads day   588101 non-null  object\n",
      " 6   most ads hour  588101 non-null  int64 \n",
      "dtypes: bool(1), int64(4), object(2)\n",
      "memory usage: 27.5+ MB\n"
     ]
    }
   ],
   "source": [
    "# Data Types (non-null counts)\n",
    "df.info()"
   ]
  },
  {
   "cell_type": "code",
   "execution_count": 7,
   "id": "f76fbbb3-39bc-485d-9459-75bf4c3b2e26",
   "metadata": {},
   "outputs": [
    {
     "data": {
      "text/plain": [
       "Unnamed: 0        int64\n",
       "user id           int64\n",
       "test group       object\n",
       "converted          bool\n",
       "total ads         int64\n",
       "most ads day     object\n",
       "most ads hour     int64\n",
       "dtype: object"
      ]
     },
     "execution_count": 7,
     "metadata": {},
     "output_type": "execute_result"
    }
   ],
   "source": [
    "df.dtypes"
   ]
  },
  {
   "cell_type": "code",
   "execution_count": 8,
   "id": "952856f1-b09a-4d64-bc5a-a992a91a15be",
   "metadata": {},
   "outputs": [
    {
     "data": {
      "text/plain": [
       "Index(['Unnamed: 0', 'user id', 'test group', 'converted', 'total ads',\n",
       "       'most ads day', 'most ads hour'],\n",
       "      dtype='object')"
      ]
     },
     "execution_count": 8,
     "metadata": {},
     "output_type": "execute_result"
    }
   ],
   "source": [
    "df.columns"
   ]
  },
  {
   "cell_type": "code",
   "execution_count": 9,
   "id": "c0e2161d-9978-4aac-be8c-35174defb714",
   "metadata": {},
   "outputs": [
    {
     "data": {
      "text/plain": [
       "RangeIndex(start=0, stop=588101, step=1)"
      ]
     },
     "execution_count": 9,
     "metadata": {},
     "output_type": "execute_result"
    }
   ],
   "source": [
    "df.index"
   ]
  },
  {
   "cell_type": "code",
   "execution_count": 10,
   "id": "6643b1d9-c0b8-4eb1-a815-37f34acc2cff",
   "metadata": {},
   "outputs": [
    {
     "data": {
      "text/plain": [
       "Unnamed: 0       0\n",
       "user id          0\n",
       "test group       0\n",
       "converted        0\n",
       "total ads        0\n",
       "most ads day     0\n",
       "most ads hour    0\n",
       "dtype: int64"
      ]
     },
     "execution_count": 10,
     "metadata": {},
     "output_type": "execute_result"
    }
   ],
   "source": [
    "df.isnull().sum()"
   ]
  },
  {
   "cell_type": "code",
   "execution_count": 11,
   "id": "8e6243e6-061d-49bc-a658-51843e06bef0",
   "metadata": {},
   "outputs": [],
   "source": [
    "# Dropping unnecessary columns\n",
    "df = df.drop(columns=['Unnamed: 0'])"
   ]
  },
  {
   "cell_type": "code",
   "execution_count": 12,
   "id": "2e79f02a-cbab-4cb9-be4a-86ee4145b5b6",
   "metadata": {},
   "outputs": [
    {
     "data": {
      "text/html": [
       "<div>\n",
       "<style scoped>\n",
       "    .dataframe tbody tr th:only-of-type {\n",
       "        vertical-align: middle;\n",
       "    }\n",
       "\n",
       "    .dataframe tbody tr th {\n",
       "        vertical-align: top;\n",
       "    }\n",
       "\n",
       "    .dataframe thead th {\n",
       "        text-align: right;\n",
       "    }\n",
       "</style>\n",
       "<table border=\"1\" class=\"dataframe\">\n",
       "  <thead>\n",
       "    <tr style=\"text-align: right;\">\n",
       "      <th></th>\n",
       "      <th>total ads</th>\n",
       "      <th>most ads hour</th>\n",
       "    </tr>\n",
       "  </thead>\n",
       "  <tbody>\n",
       "    <tr>\n",
       "      <th>count</th>\n",
       "      <td>588101.000000</td>\n",
       "      <td>588101.000000</td>\n",
       "    </tr>\n",
       "    <tr>\n",
       "      <th>mean</th>\n",
       "      <td>24.820876</td>\n",
       "      <td>14.469061</td>\n",
       "    </tr>\n",
       "    <tr>\n",
       "      <th>std</th>\n",
       "      <td>43.715181</td>\n",
       "      <td>4.834634</td>\n",
       "    </tr>\n",
       "    <tr>\n",
       "      <th>min</th>\n",
       "      <td>1.000000</td>\n",
       "      <td>0.000000</td>\n",
       "    </tr>\n",
       "    <tr>\n",
       "      <th>25%</th>\n",
       "      <td>4.000000</td>\n",
       "      <td>11.000000</td>\n",
       "    </tr>\n",
       "    <tr>\n",
       "      <th>50%</th>\n",
       "      <td>13.000000</td>\n",
       "      <td>14.000000</td>\n",
       "    </tr>\n",
       "    <tr>\n",
       "      <th>75%</th>\n",
       "      <td>27.000000</td>\n",
       "      <td>18.000000</td>\n",
       "    </tr>\n",
       "    <tr>\n",
       "      <th>max</th>\n",
       "      <td>2065.000000</td>\n",
       "      <td>23.000000</td>\n",
       "    </tr>\n",
       "  </tbody>\n",
       "</table>\n",
       "</div>"
      ],
      "text/plain": [
       "           total ads  most ads hour\n",
       "count  588101.000000  588101.000000\n",
       "mean       24.820876      14.469061\n",
       "std        43.715181       4.834634\n",
       "min         1.000000       0.000000\n",
       "25%         4.000000      11.000000\n",
       "50%        13.000000      14.000000\n",
       "75%        27.000000      18.000000\n",
       "max      2065.000000      23.000000"
      ]
     },
     "execution_count": 12,
     "metadata": {},
     "output_type": "execute_result"
    }
   ],
   "source": [
    "# Summary statistics for numeric columns\n",
    "df[['total ads', 'most ads hour']].describe()"
   ]
  },
  {
   "cell_type": "code",
   "execution_count": 13,
   "id": "5a0090b1-dfb0-4eb9-aebc-2db777a35b67",
   "metadata": {},
   "outputs": [
    {
     "data": {
      "text/plain": [
       "total ads        1911.017007\n",
       "most ads hour      23.373685\n",
       "dtype: float64"
      ]
     },
     "execution_count": 13,
     "metadata": {},
     "output_type": "execute_result"
    }
   ],
   "source": [
    "# Variance\n",
    "df[['total ads', 'most ads hour']].var()"
   ]
  },
  {
   "cell_type": "code",
   "execution_count": 14,
   "id": "cec2dd18-4b47-4ffa-abe6-e04f78f1af8d",
   "metadata": {},
   "outputs": [
    {
     "data": {
      "text/html": [
       "<div>\n",
       "<style scoped>\n",
       "    .dataframe tbody tr th:only-of-type {\n",
       "        vertical-align: middle;\n",
       "    }\n",
       "\n",
       "    .dataframe tbody tr th {\n",
       "        vertical-align: top;\n",
       "    }\n",
       "\n",
       "    .dataframe thead th {\n",
       "        text-align: right;\n",
       "    }\n",
       "</style>\n",
       "<table border=\"1\" class=\"dataframe\">\n",
       "  <thead>\n",
       "    <tr style=\"text-align: right;\">\n",
       "      <th></th>\n",
       "      <th>total ads</th>\n",
       "      <th>most ads hour</th>\n",
       "    </tr>\n",
       "  </thead>\n",
       "  <tbody>\n",
       "    <tr>\n",
       "      <th>total ads</th>\n",
       "      <td>1.000000</td>\n",
       "      <td>-0.010837</td>\n",
       "    </tr>\n",
       "    <tr>\n",
       "      <th>most ads hour</th>\n",
       "      <td>-0.010837</td>\n",
       "      <td>1.000000</td>\n",
       "    </tr>\n",
       "  </tbody>\n",
       "</table>\n",
       "</div>"
      ],
      "text/plain": [
       "               total ads  most ads hour\n",
       "total ads       1.000000      -0.010837\n",
       "most ads hour  -0.010837       1.000000"
      ]
     },
     "execution_count": 14,
     "metadata": {},
     "output_type": "execute_result"
    }
   ],
   "source": [
    "# Correlation\n",
    "df[['total ads', 'most ads hour']].corr()"
   ]
  },
  {
   "cell_type": "code",
   "execution_count": 15,
   "id": "c4cd2dda-a5c2-46cf-8d20-c2d6aea07448",
   "metadata": {},
   "outputs": [
    {
     "data": {
      "text/html": [
       "<div>\n",
       "<style scoped>\n",
       "    .dataframe tbody tr th:only-of-type {\n",
       "        vertical-align: middle;\n",
       "    }\n",
       "\n",
       "    .dataframe tbody tr th {\n",
       "        vertical-align: top;\n",
       "    }\n",
       "\n",
       "    .dataframe thead th {\n",
       "        text-align: right;\n",
       "    }\n",
       "</style>\n",
       "<table border=\"1\" class=\"dataframe\">\n",
       "  <thead>\n",
       "    <tr style=\"text-align: right;\">\n",
       "      <th></th>\n",
       "      <th>user id</th>\n",
       "      <th>test group</th>\n",
       "      <th>converted</th>\n",
       "      <th>total ads</th>\n",
       "      <th>most ads day</th>\n",
       "      <th>most ads hour</th>\n",
       "    </tr>\n",
       "  </thead>\n",
       "  <tbody>\n",
       "    <tr>\n",
       "      <th>count</th>\n",
       "      <td>5.881010e+05</td>\n",
       "      <td>588101</td>\n",
       "      <td>588101</td>\n",
       "      <td>588101.000000</td>\n",
       "      <td>588101</td>\n",
       "      <td>588101.000000</td>\n",
       "    </tr>\n",
       "    <tr>\n",
       "      <th>unique</th>\n",
       "      <td>NaN</td>\n",
       "      <td>2</td>\n",
       "      <td>2</td>\n",
       "      <td>NaN</td>\n",
       "      <td>7</td>\n",
       "      <td>NaN</td>\n",
       "    </tr>\n",
       "    <tr>\n",
       "      <th>top</th>\n",
       "      <td>NaN</td>\n",
       "      <td>ad</td>\n",
       "      <td>False</td>\n",
       "      <td>NaN</td>\n",
       "      <td>Friday</td>\n",
       "      <td>NaN</td>\n",
       "    </tr>\n",
       "    <tr>\n",
       "      <th>freq</th>\n",
       "      <td>NaN</td>\n",
       "      <td>564577</td>\n",
       "      <td>573258</td>\n",
       "      <td>NaN</td>\n",
       "      <td>92608</td>\n",
       "      <td>NaN</td>\n",
       "    </tr>\n",
       "    <tr>\n",
       "      <th>mean</th>\n",
       "      <td>1.310692e+06</td>\n",
       "      <td>NaN</td>\n",
       "      <td>NaN</td>\n",
       "      <td>24.820876</td>\n",
       "      <td>NaN</td>\n",
       "      <td>14.469061</td>\n",
       "    </tr>\n",
       "    <tr>\n",
       "      <th>std</th>\n",
       "      <td>2.022260e+05</td>\n",
       "      <td>NaN</td>\n",
       "      <td>NaN</td>\n",
       "      <td>43.715181</td>\n",
       "      <td>NaN</td>\n",
       "      <td>4.834634</td>\n",
       "    </tr>\n",
       "    <tr>\n",
       "      <th>min</th>\n",
       "      <td>9.000000e+05</td>\n",
       "      <td>NaN</td>\n",
       "      <td>NaN</td>\n",
       "      <td>1.000000</td>\n",
       "      <td>NaN</td>\n",
       "      <td>0.000000</td>\n",
       "    </tr>\n",
       "    <tr>\n",
       "      <th>25%</th>\n",
       "      <td>1.143190e+06</td>\n",
       "      <td>NaN</td>\n",
       "      <td>NaN</td>\n",
       "      <td>4.000000</td>\n",
       "      <td>NaN</td>\n",
       "      <td>11.000000</td>\n",
       "    </tr>\n",
       "    <tr>\n",
       "      <th>50%</th>\n",
       "      <td>1.313725e+06</td>\n",
       "      <td>NaN</td>\n",
       "      <td>NaN</td>\n",
       "      <td>13.000000</td>\n",
       "      <td>NaN</td>\n",
       "      <td>14.000000</td>\n",
       "    </tr>\n",
       "    <tr>\n",
       "      <th>75%</th>\n",
       "      <td>1.484088e+06</td>\n",
       "      <td>NaN</td>\n",
       "      <td>NaN</td>\n",
       "      <td>27.000000</td>\n",
       "      <td>NaN</td>\n",
       "      <td>18.000000</td>\n",
       "    </tr>\n",
       "    <tr>\n",
       "      <th>max</th>\n",
       "      <td>1.654483e+06</td>\n",
       "      <td>NaN</td>\n",
       "      <td>NaN</td>\n",
       "      <td>2065.000000</td>\n",
       "      <td>NaN</td>\n",
       "      <td>23.000000</td>\n",
       "    </tr>\n",
       "  </tbody>\n",
       "</table>\n",
       "</div>"
      ],
      "text/plain": [
       "             user id test group converted      total ads most ads day  \\\n",
       "count   5.881010e+05     588101    588101  588101.000000       588101   \n",
       "unique           NaN          2         2            NaN            7   \n",
       "top              NaN         ad     False            NaN       Friday   \n",
       "freq             NaN     564577    573258            NaN        92608   \n",
       "mean    1.310692e+06        NaN       NaN      24.820876          NaN   \n",
       "std     2.022260e+05        NaN       NaN      43.715181          NaN   \n",
       "min     9.000000e+05        NaN       NaN       1.000000          NaN   \n",
       "25%     1.143190e+06        NaN       NaN       4.000000          NaN   \n",
       "50%     1.313725e+06        NaN       NaN      13.000000          NaN   \n",
       "75%     1.484088e+06        NaN       NaN      27.000000          NaN   \n",
       "max     1.654483e+06        NaN       NaN    2065.000000          NaN   \n",
       "\n",
       "        most ads hour  \n",
       "count   588101.000000  \n",
       "unique            NaN  \n",
       "top               NaN  \n",
       "freq              NaN  \n",
       "mean        14.469061  \n",
       "std          4.834634  \n",
       "min          0.000000  \n",
       "25%         11.000000  \n",
       "50%         14.000000  \n",
       "75%         18.000000  \n",
       "max         23.000000  "
      ]
     },
     "execution_count": 15,
     "metadata": {},
     "output_type": "execute_result"
    }
   ],
   "source": [
    "df.describe(include='all')"
   ]
  },
  {
   "cell_type": "markdown",
   "id": "ad137131-c5ac-41b3-8fb7-45e6cb2caeb7",
   "metadata": {},
   "source": [
    "### 4.Group Distribution and Conversion Rates"
   ]
  },
  {
   "cell_type": "code",
   "execution_count": 16,
   "id": "c648087e-c6ba-46c0-9618-48293c735c81",
   "metadata": {},
   "outputs": [
    {
     "name": "stdout",
     "output_type": "stream",
     "text": [
      "test group\n",
      "ad     564577\n",
      "psa     23524\n",
      "Name: count, dtype: int64\n"
     ]
    }
   ],
   "source": [
    "print(df['test group'].value_counts())"
   ]
  },
  {
   "cell_type": "code",
   "execution_count": 17,
   "id": "2bee1d11-0a98-4747-ba1a-144a36efd989",
   "metadata": {},
   "outputs": [
    {
     "name": "stdout",
     "output_type": "stream",
     "text": [
      "converted\n",
      "False    573258\n",
      "True      14843\n",
      "Name: count, dtype: int64\n"
     ]
    }
   ],
   "source": [
    "print(df['converted'].value_counts())"
   ]
  },
  {
   "cell_type": "markdown",
   "id": "21a3c238-319e-45b5-8dbb-682aa6b987e8",
   "metadata": {},
   "source": [
    "### 5.Check Conversion Rates by Group"
   ]
  },
  {
   "cell_type": "code",
   "execution_count": 18,
   "id": "d88e9484-834d-4b00-8c1f-dd5cfc2216b5",
   "metadata": {},
   "outputs": [
    {
     "name": "stdout",
     "output_type": "stream",
     "text": [
      "test group\n",
      "ad     0.025547\n",
      "psa    0.017854\n",
      "Name: converted, dtype: float64\n"
     ]
    }
   ],
   "source": [
    "# Calculate conversion rates by test group\n",
    "conversion_rates = df.groupby('test group')['converted'].mean()\n",
    "print(conversion_rates)"
   ]
  },
  {
   "cell_type": "code",
   "execution_count": 19,
   "id": "d069c34c-b426-42d1-9951-61bffc1f8791",
   "metadata": {},
   "outputs": [
    {
     "name": "stderr",
     "output_type": "stream",
     "text": [
      "C:\\Users\\ADMIN\\AppData\\Local\\Temp\\ipykernel_15840\\3125383350.py:3: FutureWarning: \n",
      "\n",
      "Passing `palette` without assigning `hue` is deprecated and will be removed in v0.14.0. Assign the `x` variable to `hue` and set `legend=False` for the same effect.\n",
      "\n",
      "  sns.barplot(x=conversion_rates.index, y=conversion_rates.values,palette='Set2')\n"
     ]
    },
    {
     "data": {
      "image/png": "[encoded data removed]",
      "text/plain": [
       "<Figure size 400x400 with 1 Axes>"
      ]
     },
     "metadata": {},
     "output_type": "display_data"
    }
   ],
   "source": [
    "# Visualize\n",
    "plt.figure(figsize=(4,4))\n",
    "sns.barplot(x=conversion_rates.index, y=conversion_rates.values,palette='Set2')\n",
    "plt.ylabel('Conversion Rate')\n",
    "plt.title('Conversion Rate by Test Group')\n",
    "plt.show()"
   ]
  },
  {
   "cell_type": "markdown",
   "id": "4d0031df-05c4-45b3-8542-d3d5c5797aef",
   "metadata": {},
   "source": [
    "### 6.Create Contingency Table and Chi-Square Test"
   ]
  },
  {
   "cell_type": "code",
   "execution_count": 20,
   "id": "10daad54-8c01-46f7-b93d-3515d20d5f31",
   "metadata": {},
   "outputs": [
    {
     "name": "stdout",
     "output_type": "stream",
     "text": [
      "converted    False  True \n",
      "test group               \n",
      "ad          550154  14423\n",
      "psa          23104    420\n"
     ]
    }
   ],
   "source": [
    "# Contingency table\n",
    "contingency = pd.crosstab(df['test group'], df['converted'])\n",
    "print(contingency)"
   ]
  },
  {
   "cell_type": "code",
   "execution_count": 21,
   "id": "fd74057f-60ac-411a-ac0a-a90101e398f4",
   "metadata": {},
   "outputs": [
    {
     "name": "stdout",
     "output_type": "stream",
     "text": [
      "Chi2 Statistic: 54.005823883685245\n",
      "p-value: 1.9989623063390075e-13\n",
      "Statistically significant difference between groups.\n"
     ]
    }
   ],
   "source": [
    "# Chi-square test\n",
    "chi2, p, dof, expected = chi2_contingency(contingency)\n",
    "print(f'Chi2 Statistic: {chi2}')\n",
    "print(f'p-value: {p}')\n",
    "\n",
    "if p < 0.05:\n",
    "    print(\"Statistically significant difference between groups.\")\n",
    "else:\n",
    "    print(\"No statistically significant difference between groups.\")"
   ]
  },
  {
   "cell_type": "markdown",
   "id": "88f2933b-3596-421b-9859-d62ad41bb37d",
   "metadata": {},
   "source": [
    "### 7.Explore the Effect of Total Ads"
   ]
  },
  {
   "cell_type": "code",
   "execution_count": 22,
   "id": "05d997f4-695e-4671-80e0-9513c45fcbbf",
   "metadata": {},
   "outputs": [
    {
     "data": {
      "image/png": "[encoded data removed]",
      "text/plain": [
       "<Figure size 640x480 with 1 Axes>"
      ]
     },
     "metadata": {},
     "output_type": "display_data"
    }
   ],
   "source": [
    "# Compare total ads seen by conversion\n",
    "sns.boxplot(x='converted', y='total ads', data=df)\n",
    "plt.title('Total Ads Seen vs. Conversion')\n",
    "plt.show()"
   ]
  },
  {
   "cell_type": "code",
   "execution_count": 23,
   "id": "c9afa8ea-8ba7-4acc-b29a-a35d5c783aaa",
   "metadata": {},
   "outputs": [
    {
     "data": {
      "image/png": "[encoded data removed]",
      "text/plain": [
       "<Figure size 640x480 with 1 Axes>"
      ]
     },
     "metadata": {},
     "output_type": "display_data"
    }
   ],
   "source": [
    "# Compare total ads seen by test group\n",
    "sns.boxplot(x='test group', y='total ads', data=df)\n",
    "plt.title('Total Ads Seen by Test Group')\n",
    "plt.show()"
   ]
  },
  {
   "cell_type": "markdown",
   "id": "c246189a-c130-4f31-8e4a-584852d286b8",
   "metadata": {},
   "source": [
    "### 8.Explore Most Ads Day and Most Ads Hour"
   ]
  },
  {
   "cell_type": "code",
   "execution_count": 24,
   "id": "080004df-01ad-4c42-960d-5c8027db85cb",
   "metadata": {},
   "outputs": [
    {
     "data": {
      "image/png": "[encoded data removed]",
      "text/plain": [
       "<Figure size 640x480 with 1 Axes>"
      ]
     },
     "metadata": {},
     "output_type": "display_data"
    }
   ],
   "source": [
    "# Most ads day by test group\n",
    "sns.countplot(x='most ads day', hue='test group', data=df)\n",
    "plt.title('Most Ads Day by Test Group')\n",
    "plt.show()"
   ]
  },
  {
   "cell_type": "code",
   "execution_count": 25,
   "id": "98fb66a3-94f0-4c2a-972c-93ee19dd8a41",
   "metadata": {},
   "outputs": [
    {
     "data": {
      "image/png": "[encoded data removed]",
      "text/plain": [
       "<Figure size 640x480 with 1 Axes>"
      ]
     },
     "metadata": {},
     "output_type": "display_data"
    }
   ],
   "source": [
    "# Most ads hour by test group (optional: convert to int if needed)\n",
    "sns.countplot(x='most ads hour', hue='test group', data=df)\n",
    "plt.title('Most Ads Hour by Test Group')\n",
    "plt.show()"
   ]
  },
  {
   "cell_type": "markdown",
   "id": "8924d34d-f30a-4e61-a908-595382a319cf",
   "metadata": {},
   "source": [
    "### 9.Summary Table"
   ]
  },
  {
   "cell_type": "code",
   "execution_count": 26,
   "id": "a41e9b76-99cf-4109-b296-97e62ed58b5a",
   "metadata": {},
   "outputs": [
    {
     "name": "stdout",
     "output_type": "stream",
     "text": [
      "            Total Users  Converted  Conversion Rate\n",
      "test group                                         \n",
      "ad               564577      14423         0.025547\n",
      "psa               23524        420         0.017854\n"
     ]
    }
   ],
   "source": [
    "summary = df.groupby('test group')['converted'].agg(['count', 'sum', 'mean'])\n",
    "summary.rename(columns={'count': 'Total Users', 'sum': 'Converted', 'mean': 'Conversion Rate'}, inplace=True)\n",
    "print(summary)"
   ]
  },
  {
   "cell_type": "code",
   "execution_count": null,
   "id": "a8a2c3c7-bd04-4737-baf3-bc3b8cf81430",
   "metadata": {},
   "outputs": [],
   "source": []
  }
 ],
 "metadata": {
  "kernelspec": {
   "display_name": "Python 3 (ipykernel)",
   "language": "python",
   "name": "python3"
  },
  "language_info": {
   "codemirror_mode": {
    "name": "ipython",
    "version": 3
   },
   "file_extension": ".py",
   "mimetype": "text/x-python",
   "name": "python",
   "nbconvert_exporter": "python",
   "pygments_lexer": "ipython3",
   "version": "3.12.7"
  }
 },
 "nbformat": 4,
 "nbformat_minor": 5
}
